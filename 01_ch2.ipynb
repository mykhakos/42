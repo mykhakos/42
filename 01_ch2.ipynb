{
  "nbformat": 4,
  "nbformat_minor": 0,
  "metadata": {
    "colab": {
      "provenance": [],
      "toc_visible": true,
      "authorship_tag": "ABX9TyM4rffbxlqYuT0yqh+Ts0a0",
      "include_colab_link": true
    },
    "kernelspec": {
      "name": "python3",
      "display_name": "Python 3"
    },
    "language_info": {
      "name": "python"
    }
  },
  "cells": [
    {
      "cell_type": "markdown",
      "metadata": {
        "id": "view-in-github",
        "colab_type": "text"
      },
      "source": [
        "<a href=\"https://colab.research.google.com/github/mykhakos/42/blob/main/01_ch2.ipynb\" target=\"_parent\"><img src=\"https://colab.research.google.com/assets/colab-badge.svg\" alt=\"Open In Colab\"/></a>"
      ]
    },
    {
      "cell_type": "markdown",
      "source": [
        "# Ex 8"
      ],
      "metadata": {
        "id": "vOUJ_SGHshGY"
      }
    },
    {
      "cell_type": "markdown",
      "source": [
        "Exercise relates to the `College` data set, which can be found in\n",
        "the file `College.csv` on the book website. It contains a number of\n",
        "variables for 777 different universities and colleges in the US."
      ],
      "metadata": {
        "id": "DPhYMfSSsHf8"
      }
    },
    {
      "cell_type": "code",
      "source": [
        "#"
      ],
      "metadata": {
        "id": "KQDwzsILo2av"
      },
      "execution_count": null,
      "outputs": []
    }
  ]
}